{
  "nbformat": 4,
  "nbformat_minor": 0,
  "metadata": {
    "colab": {
      "provenance": []
    },
    "kernelspec": {
      "name": "python3",
      "display_name": "Python 3"
    },
    "language_info": {
      "name": "python"
    }
  },
  "cells": [
    {
      "cell_type": "markdown",
      "source": [
        "Name: Sambhu Kamti\n",
        "Id: 2435774\n",
        "\n",
        "\n"
      ],
      "metadata": {
        "id": "XFw-Akb_3iEz"
      }
    },
    {
      "cell_type": "markdown",
      "source": [
        "Task 1. Classify Temperatures:\n",
        "\n",
        "Datasets: The temperatures list contains daily temperature readings in Celsius for one\n",
        "month in Kathmandu. Each day includes three readings representing night (00-08),\n",
        "evening (08-16), and day (16-24) temperatures.\n",
        "Sample Code - List of temperature measured at Tribhuwan International Airport."
      ],
      "metadata": {
        "id": "XDL0YLY_3qQz"
      }
    },
    {
      "cell_type": "code",
      "execution_count": 1,
      "metadata": {
        "colab": {
          "base_uri": "https://localhost:8080/"
        },
        "id": "qD7UA8STxMOh",
        "outputId": "9c2feb85-7c06-429b-b130-f6cf007875e3"
      },
      "outputs": [
        {
          "output_type": "stream",
          "name": "stdout",
          "text": [
            "Cold temperatures: [8.2, 7.9, 9.0, 8.5, 7.7, 8.4, 9.5, 8.1, 7.6, 8.0, 7.8, 8.7, 9.2, 8.3, 8.9, 7.8]\n",
            "Mild temperatures: [14.1, 13.5, 13.0, 12.9, 13.3, 14.0, 13.4, 14.2, 12.8, 13.7, 13.6, 13.8, 13.9, 12.7, 13.1, 12.5]\n",
            "Comfortable temperatures: [17.4, 18.0, 17.8, 16.5, 17.2, 16.7, 18.3, 17.9, 17.0, 16.8, 17.5, 17.1, 18.1, 16.4, 18.2, 16.6]\n",
            "\n",
            "Task 2:\n",
            "Number of times it was mild: 16\n"
          ]
        }
      ],
      "source": [
        "# List of temperatures measured\n",
        "temperatures = [8.2, 17.4, 14.1, 7.9, 18.0, 13.5, 9.0, 17.8, 13.0, 8.5,\n",
        "                16.5, 12.9, 7.7, 17.2, 13.3, 8.4, 16.7, 14.0, 9.5, 18.3,\n",
        "                13.4, 8.1, 17.9, 14.2, 7.6, 17.0, 12.8, 8.0, 16.8, 13.7,\n",
        "                7.8, 17.5, 13.6, 8.7, 17.1, 13.8, 9.2, 18.1, 13.9, 8.3,\n",
        "                16.4, 12.7, 8.9, 18.2, 13.1, 7.8, 16.6, 12.5]\n",
        "\n",
        "# Task 1: Classify Temperatures\n",
        "cold = []        # Temperatures below 10°C\n",
        "mild = []        # Temperatures between 10°C and 15°C\n",
        "comfortable = [] # Temperatures between 15°C and 20°C\n",
        "\n",
        "# Classify temperatures\n",
        "for temp in temperatures:\n",
        "    if temp < 10:\n",
        "        cold.append(temp)\n",
        "    elif 10 <= temp < 15:\n",
        "        mild.append(temp)\n",
        "    elif 15 <= temp <= 20:\n",
        "        comfortable.append(temp)\n",
        "\n",
        "# Print results for verification\n",
        "print(\"Cold temperatures:\", cold)\n",
        "print(\"Mild temperatures:\", mild)\n",
        "print(\"Comfortable temperatures:\", comfortable)\n",
        "\n",
        "# Task 2: Based on data - Answer the questions\n",
        "# Count how many times it was mild\n",
        "mild_count = len(mild)\n",
        "\n",
        "print(\"\\nTask 2:\")\n",
        "print(\"Number of times it was mild:\", mild_count)\n"
      ]
    },
    {
      "cell_type": "markdown",
      "source": [
        "2. How many times was it comfortable?\n",
        "=> 16\n",
        "\n",
        "3. How many times was it cold?\n",
        "=> 16\n",
        "\n"
      ],
      "metadata": {
        "id": "7E225qyuCdKp"
      }
    },
    {
      "cell_type": "markdown",
      "source": [
        "Task 3. Convert Temperatures from Celsius to Fahrenheit\n",
        "\n",
        "Using the formula for temperature conversion, convert each reading from Celsius to Fahren-\n",
        "heit and store it in a new list called temperatures_fahrenheit.\n",
        "\n",
        "Formula: Fahrenheit = (Celsius ×\n",
        "9/\n",
        "5\n",
        ") + 32\n",
        "\n",
        "1. Iterate over the temperatures list and apply the formula to convert each temperature.\n",
        "2. Store the results in the new list.\n",
        "3. Print the converted Fahrenheit values."
      ],
      "metadata": {
        "id": "UBicYzaL3gVb"
      }
    },
    {
      "cell_type": "code",
      "source": [
        "# Task 3: Convert Temperatures from Celsius to Fahrenheit\n",
        "\n",
        "# List to store converted temperatures\n",
        "temperatures_fahrenheit = []\n",
        "\n",
        "# Conversion formula and storing the result in a new list\n",
        "for temp in temperatures:\n",
        "    fahrenheit = (temp * 9/5) + 32\n",
        "    temperatures_fahrenheit.append(fahrenheit)\n",
        "\n",
        "# Print the converted Fahrenheit values\n",
        "print(\"Temperatures in Fahrenheit:\", temperatures_fahrenheit)\n"
      ],
      "metadata": {
        "colab": {
          "base_uri": "https://localhost:8080/"
        },
        "id": "xgZqZAYPDBE3",
        "outputId": "53ed62b8-6e0a-45a1-89c4-61e4a69575d2"
      },
      "execution_count": 3,
      "outputs": [
        {
          "output_type": "stream",
          "name": "stdout",
          "text": [
            "Temperatures in Fahrenheit: [46.76, 63.32, 57.379999999999995, 46.22, 64.4, 56.3, 48.2, 64.04, 55.4, 47.3, 61.7, 55.22, 45.86, 62.959999999999994, 55.94, 47.120000000000005, 62.059999999999995, 57.2, 49.1, 64.94, 56.120000000000005, 46.58, 64.22, 57.56, 45.68, 62.6, 55.04, 46.4, 62.24, 56.66, 46.04, 63.5, 56.48, 47.66, 62.78, 56.84, 48.56, 64.58, 57.02, 46.94, 61.519999999999996, 54.86, 48.02, 64.75999999999999, 55.58, 46.04, 61.88, 54.5]\n"
          ]
        }
      ]
    },
    {
      "cell_type": "markdown",
      "source": [
        "Task 4. Analyze Temperature Patterns by Time of Day:\n",
        "Scenario: Each day’s readings are grouped as:\n",
        "• Night (00-08),\n",
        "• Evening (08-16),\n",
        "• Day (16-24).\n",
        "1. Create empty lists for night, day, and evening temperatures.\n",
        "2. Iterate over the temperatures list, assigning values to each time-of-day list based on\n",
        "their position.\n",
        "3. Calculate and print the average day-time temperature.\n",
        "4. (Optional) Plot ”day vs. temperature” using matplotlib."
      ],
      "metadata": {
        "id": "ZxdpPd35Dwcz"
      }
    },
    {
      "cell_type": "code",
      "source": [
        "# Task 4: Analyze Temperature Patterns by Time of Day\n",
        "\n",
        "# Create empty lists for night, evening, and day temperatures\n",
        "night_temps = []\n",
        "evening_temps = []\n",
        "day_temps = []\n",
        "\n",
        "# Step 2: Group temperatures by time of day\n",
        "for i in range(0, len(temperatures), 3):  # Each day has three readings\n",
        "    night_temps.append(temperatures[i])      # Night: 00-08\n",
        "    evening_temps.append(temperatures[i+1]) # Evening: 08-16\n",
        "    day_temps.append(temperatures[i+2])     # Day: 16-24\n",
        "\n",
        "# Step 3: Calculate the average day-time temperature\n",
        "avg_day_temp = sum(day_temps) / len(day_temps)\n",
        "\n",
        "# Print results\n",
        "print(\"\\nTask 4:\")\n",
        "print(\"Night temperatures:\", night_temps)\n",
        "print(\"Evening temperatures:\", evening_temps)\n",
        "print(\"Day temperatures:\", day_temps)\n",
        "print(\"Average day-time temperature:\", avg_day_temp)\n",
        "\n",
        "# Step 4 (Optional): Plot \"day vs. temperature\" using matplotlib\n",
        "import matplotlib.pyplot as plt\n",
        "\n",
        "# Plotting day temperatures\n",
        "plt.figure(figsize=(10, 5))\n",
        "plt.plot(day_temps, marker='o', label='Day Temperatures', color='orange')\n",
        "plt.title(\"Day Temperatures Over Time\")\n",
        "plt.xlabel(\"Days\")\n",
        "plt.ylabel(\"Temperature (°C)\")\n",
        "plt.legend()\n",
        "plt.grid(True)\n",
        "plt.show()\n"
      ],
      "metadata": {
        "colab": {
          "base_uri": "https://localhost:8080/",
          "height": 591
        },
        "id": "xdhjrChPD5Tq",
        "outputId": "d85e16c9-7547-49aa-ac51-b4025e986888"
      },
      "execution_count": 4,
      "outputs": [
        {
          "output_type": "stream",
          "name": "stdout",
          "text": [
            "\n",
            "Task 4:\n",
            "Night temperatures: [8.2, 7.9, 9.0, 8.5, 7.7, 8.4, 9.5, 8.1, 7.6, 8.0, 7.8, 8.7, 9.2, 8.3, 8.9, 7.8]\n",
            "Evening temperatures: [17.4, 18.0, 17.8, 16.5, 17.2, 16.7, 18.3, 17.9, 17.0, 16.8, 17.5, 17.1, 18.1, 16.4, 18.2, 16.6]\n",
            "Day temperatures: [14.1, 13.5, 13.0, 12.9, 13.3, 14.0, 13.4, 14.2, 12.8, 13.7, 13.6, 13.8, 13.9, 12.7, 13.1, 12.5]\n",
            "Average day-time temperature: 13.40625\n"
          ]
        },
        {
          "output_type": "display_data",
          "data": {
            "text/plain": [
              "<Figure size 1000x500 with 1 Axes>"
            ],
            "image/png": "[encoded data removed]"
          },
          "metadata": {}
        }
      ]
    },
    {
      "cell_type": "markdown",
      "source": [
        "Exercise - Recursion:\n",
        "Task 1 - Sum of Nested Lists:\n",
        "Scenario: You have a list that contains numbers and other lists of numbers (nested lists).\n",
        "You want to find the total sum of all the numbers in this structure.\n",
        "Task:\n",
        "• Write a recursive function sum_nested_list(nested_list) that:\n",
        "1. Takes a nested list (a list that can contain numbers or other lists of numbers) as\n",
        "input.\n",
        "2. Sums all numbers at every depth level of the list, regardless of how deeply nested\n",
        "the numbers are.\n",
        "• Test the function with a sample nested list, such as\n",
        "nested_list = [1, [2, [3, 4], 5], 6, [7, 8]].\n",
        "The result should be the total sum of all the numbers."
      ],
      "metadata": {
        "id": "RfHAsGUCEAId"
      }
    },
    {
      "cell_type": "code",
      "source": [
        "def sum_nested_list(nested_list):\n",
        "    total = 0\n",
        "    for element in nested_list:\n",
        "        if isinstance(element, list):  # Check if the element is a list\n",
        "            total += sum_nested_list(element)  # Recursively sum the nested list\n",
        "        else:\n",
        "            total += element  # Add the number to the total\n",
        "    return total\n",
        "\n",
        "# Test Cases\n",
        "nested_list_1 = [1, [2, [3, 4], 5], 6, [7, 8]]\n",
        "nested_list_2 = [1, [2, 3], [4, [5]]]\n",
        "\n",
        "# Printing Results\n",
        "print(\"Sum of nested_list_1:\", sum_nested_list(nested_list_1))\n",
        "print(\"Sum of nested_list_2:\", sum_nested_list(nested_list_2))\n"
      ],
      "metadata": {
        "colab": {
          "base_uri": "https://localhost:8080/"
        },
        "id": "iTaN_eD5ExlK",
        "outputId": "e3205d8c-6bab-4755-ef35-c1e0a76eadb6"
      },
      "execution_count": 6,
      "outputs": [
        {
          "output_type": "stream",
          "name": "stdout",
          "text": [
            "Sum of nested_list_1: 36\n",
            "Sum of nested_list_2: 15\n"
          ]
        }
      ]
    },
    {
      "cell_type": "markdown",
      "source": [
        "Task 2 - Generate All Permutations of a String:\n",
        "Scenario: Given a string, generate all possible permutations of its characters. This is useful\n",
        "for understanding backtracking and recursive depth-first search.\n",
        "Task:\n",
        "• Write a recursive function generate_permutations(s) that:\n",
        "– Takes a string s as input and returns a list of all unique permutations.\n",
        "• Test with strings like ”abc” and ”aab”.\n",
        "\n",
        "print(generate_permutations(\"abc\"))\n",
        "# Should return [’abc’, ’acb’, ’bac’, ’bca’, ’cab’, ’cba’]"
      ],
      "metadata": {
        "id": "vi9pSRGiFKkE"
      }
    },
    {
      "cell_type": "code",
      "source": [
        "def generate_permutations_unique(s):\n",
        "    \"\"\"\n",
        "    Generate all unique permutations of a string using a set to avoid duplicates.\n",
        "    \"\"\"\n",
        "    if len(s) == 1:\n",
        "        return [s]\n",
        "\n",
        "    permutations = set()\n",
        "    for i, char in enumerate(s):\n",
        "        remaining = s[:i] + s[i+1:]\n",
        "        for perm in generate_permutations_unique(remaining):\n",
        "            permutations.add(char + perm)\n",
        "\n",
        "    return list(permutations)\n",
        "\n",
        "# Test Cases\n",
        "print(\"Unique Permutations of 'abc':\", generate_permutations_unique(\"abc\"))  # Expected: ['abc', 'acb', 'bac', 'bca', 'cab', 'cba']\n",
        "print(\"Unique Permutations of 'aab':\", generate_permutations_unique(\"aab\"))  # Expected: ['aab', 'aba', 'baa']\n"
      ],
      "metadata": {
        "colab": {
          "base_uri": "https://localhost:8080/"
        },
        "id": "IXIsTIotFUPT",
        "outputId": "f3f1afa7-7823-49d7-9a97-95d711c728f1"
      },
      "execution_count": 7,
      "outputs": [
        {
          "output_type": "stream",
          "name": "stdout",
          "text": [
            "Unique Permutations of 'abc': ['abc', 'acb', 'bca', 'cab', 'cba', 'bac']\n",
            "Unique Permutations of 'aab': ['aba', 'aab', 'baa']\n"
          ]
        }
      ]
    },
    {
      "cell_type": "markdown",
      "source": [
        "\n",
        "\n"
      ],
      "metadata": {
        "id": "chjIds-9GEJ1"
      }
    },
    {
      "cell_type": "markdown",
      "source": [
        "Task 3 - Directory Size Calculation:\n",
        "Directory Size Calculation Scenario: Imagine a file system where directories can contain files\n",
        "(with sizes in KB) and other directories. You want to calculate the total size of a directory,\n",
        "including all nested files and subdirectories.\n",
        "\n",
        "Sample directory structure.\n",
        "\n",
        "# Sample directory structure\n",
        "directory_structure = {\n",
        "\"file1.txt\": 200,\n",
        "\"file2.txt\": 300,\n",
        "\"subdir1\": {\n",
        "\"file3.txt\": 400,\n",
        "\"file4.txt\": 100\n",
        "},\n",
        "\"subdir2\": {\n",
        "\"subsubdir1\": {\n",
        "\"file5.txt\": 250\n",
        "},\n",
        "\n",
        "19\n",
        "\n",
        "5CS037 Worksheet - 0 Siman Giri\n",
        "\n",
        "\"file6.txt\": 150\n",
        "}\n",
        "}\n",
        "Task:\n",
        "1. Write a recursive function calculate_directory_size(directory) where:\n",
        "• directory is a dictionary where keys represent file names (with values as sizes in\n",
        "\n",
        "KB) or directory names (with values as another dictionary representing a subdi-\n",
        "rectory).\n",
        "\n",
        "• The function should return the total size of the directory, including all nested\n",
        "subdirectories.\n",
        "2. Test the function with a sample directory structure."
      ],
      "metadata": {
        "id": "d3FUYOKlFvV-"
      }
    },
    {
      "cell_type": "code",
      "source": [
        "def calculate_directory_size(directory):\n",
        "    total_size = 0\n",
        "\n",
        "    for key, value in directory.items():\n",
        "        if isinstance(value, dict):  # If it's a subdirectory\n",
        "            total_size += calculate_directory_size(value)  # Recursively calculate its size\n",
        "        else:  # It's a file\n",
        "            total_size += value\n",
        "\n",
        "    return total_size\n",
        "\n",
        "# Sample directory structure\n",
        "directory_structure = {\n",
        "    \"file1.txt\": 200,\n",
        "    \"file2.txt\": 300,\n",
        "    \"subdir1\": {\n",
        "        \"file3.txt\": 400,\n",
        "        \"file4.txt\": 100\n",
        "    },\n",
        "    \"subdir2\": {\n",
        "        \"subsubdir1\": {\n",
        "            \"file5.txt\": 250\n",
        "        },\n",
        "        \"file6.txt\": 150\n",
        "    }\n",
        "}\n",
        "\n",
        "# Test the function\n",
        "total_size = calculate_directory_size(directory_structure)\n",
        "print(\"Total directory size:\", total_size, \"KB\")\n"
      ],
      "metadata": {
        "colab": {
          "base_uri": "https://localhost:8080/"
        },
        "id": "IUa_bCX6GB35",
        "outputId": "678c271d-de1f-4fd1-cfca-d2570abf6092"
      },
      "execution_count": 8,
      "outputs": [
        {
          "output_type": "stream",
          "name": "stdout",
          "text": [
            "Total directory size: 1400 KB\n"
          ]
        }
      ]
    },
    {
      "cell_type": "markdown",
      "source": [
        "Exercises - Dynamic Programming:\n",
        "Task 1 - Coin Change Problem:\n",
        "Scenario: Given a set of coin denominations and a target amount, find the minimum number\n",
        "of coins needed to make the amount. If it’s not possible, return - 1.\n",
        "Task:\n",
        "1. Write a function min_coins(coins, amount) that:\n",
        "• Uses DP to calculate the minimum number of coins needed to make up the\n",
        "amount.\n",
        "2. Test with coins = [1, 2, 5] and amount = 11. The result should be 3 (using coins\n",
        "[5, 5, 1])."
      ],
      "metadata": {
        "id": "txR4TXjUGjuJ"
      }
    },
    {
      "cell_type": "code",
      "source": [
        "def min_coins(coins, amount):\n",
        "    \"\"\"\n",
        "    Finds the minimum number of coins needed to make up a given amount using dynamic programming.\n",
        "\n",
        "    Args:\n",
        "        coins (list of int): A list of coin denominations available for making change.\n",
        "        amount (int): The target amount for which we need to find the minimum number of coins.\n",
        "\n",
        "    Returns:\n",
        "        int: The minimum number of coins required to make the given amount.\n",
        "             If it is not possible to make the amount with the given coins, returns -1.\n",
        "\n",
        "    Example:\n",
        "        >>> min_coins([1, 2, 5], 11)\n",
        "        3\n",
        "        >>> min_coins([2], 3)\n",
        "        -1\n",
        "    \"\"\"\n",
        "    # Initialize the DP table with infinity (representing an impossible amount initially)\n",
        "    dp = [float('inf')] * (amount + 1)\n",
        "    dp[0] = 0  # Base case: 0 coins are needed to make an amount of 0\n",
        "\n",
        "    # Populate the DP table\n",
        "    for coin in coins:\n",
        "        for i in range(coin, amount + 1):\n",
        "            dp[i] = min(dp[i], dp[i - coin] + 1)\n",
        "\n",
        "    # If dp[amount] is still infinity, the amount cannot be made\n",
        "    return dp[amount] if dp[amount] != float('inf') else -1\n",
        "\n",
        "# Test Cases\n",
        "coins = [1, 2, 5]\n",
        "amount = 11\n",
        "print(\"Minimum coins required:\", min_coins(coins, amount))  # Expected: 3 (using coins [5, 5, 1])\n",
        "\n",
        "coins = [2]\n",
        "amount = 3\n",
        "print(\"Minimum coins required:\", min_coins(coins, amount))  # Expected: -1 (impossible to make 3 with coin [2])\n"
      ],
      "metadata": {
        "colab": {
          "base_uri": "https://localhost:8080/"
        },
        "id": "lMxRjNI7G3HJ",
        "outputId": "cb4f0602-67b1-4903-9809-4617ba6c98df"
      },
      "execution_count": 11,
      "outputs": [
        {
          "output_type": "stream",
          "name": "stdout",
          "text": [
            "Minimum coins required: 3\n",
            "Minimum coins required: -1\n"
          ]
        }
      ]
    },
    {
      "cell_type": "markdown",
      "source": [
        "Task 2 - Longest Common Subsequence (LCS):\n",
        "Scenario: Given two strings, find the length of their longest common subsequence (LCS).\n",
        "This is useful in text comparison.\n",
        "Task:\n",
        "1. Write a function longest_common_subsequence(s1, s2) that:\n",
        "• Uses DP to find the length of the LCS of two strings s1 and s2.\n",
        "2. Test with strings like \"abcde\" and \"ace\"; the LCS length should be 3 (\"ace\")."
      ],
      "metadata": {
        "id": "Gd4mlmsgHQCV"
      }
    },
    {
      "cell_type": "code",
      "source": [
        "def longest_common_subsequence(s1, s2):\n",
        "    \"\"\"\n",
        "    Finds the length of the longest common subsequence (LCS) of two strings using dynamic programming.\n",
        "\n",
        "    Args:\n",
        "        s1 (str): First string.\n",
        "        s2 (str): Second string.\n",
        "\n",
        "    Returns:\n",
        "        int: The length of the longest common subsequence of s1 and s2.\n",
        "\n",
        "    Example:\n",
        "        >>> longest_common_subsequence(\"abcde\", \"ace\")\n",
        "        3\n",
        "    \"\"\"\n",
        "    # Lengths of the input strings\n",
        "    m, n = len(s1), len(s2)\n",
        "\n",
        "    # Create a DP table with dimensions (m+1) x (n+1)\n",
        "    dp = [[0] * (n + 1) for _ in range(m + 1)]\n",
        "\n",
        "    # Fill the DP table\n",
        "    for i in range(1, m + 1):\n",
        "        for j in range(1, n + 1):\n",
        "            if s1[i - 1] == s2[j - 1]:  # Characters match\n",
        "                dp[i][j] = dp[i - 1][j - 1] + 1\n",
        "            else:  # Characters don't match\n",
        "                dp[i][j] = max(dp[i - 1][j], dp[i][j - 1])\n",
        "\n",
        "    # The length of the LCS is in dp[m][n]\n",
        "    return dp[m][n]\n",
        "\n",
        "# Test Cases\n",
        "s1 = \"abcde\"\n",
        "s2 = \"ace\"\n",
        "print(\"Length of LCS:\", longest_common_subsequence(s1, s2))  # Expected: 3 (\"ace\")\n",
        "\n",
        "s1 = \"abc\"\n",
        "s2 = \"def\"\n",
        "print(\"Length of LCS:\", longest_common_subsequence(s1, s2))  # Expected: 0 (no common subsequence)\n"
      ],
      "metadata": {
        "colab": {
          "base_uri": "https://localhost:8080/"
        },
        "id": "2NTpZViSHREk",
        "outputId": "776f3c57-a3bc-44ed-9d2b-1501152dbeb8"
      },
      "execution_count": 12,
      "outputs": [
        {
          "output_type": "stream",
          "name": "stdout",
          "text": [
            "Length of LCS: 3\n",
            "Length of LCS: 0\n"
          ]
        }
      ]
    },
    {
      "cell_type": "markdown",
      "source": [
        "Task 3 - 0/1 Knapsack Problem:\n",
        "Scenario: You have a list of items, each with a weight and a value. Given a weight capacity,\n",
        "maximize the total value of items you can carry without exceeding the weight capacity.\n",
        "Task:\n",
        "1. Write a function knapsack(weights, values, capacity) that:\n",
        "• Uses DP to determine the maximum value that can be achieved within the given\n",
        "weight capacity.\n",
        "\n",
        "2. Test with weights [1, 3, 4, 5], values [1, 4, 5, 7], and capacity 7. The re-\n",
        "sult should be 9."
      ],
      "metadata": {
        "id": "02C5u2nzHfz8"
      }
    },
    {
      "cell_type": "code",
      "source": [
        "def knapsack(weights, values, capacity):\n",
        "    \"\"\"\n",
        "    Solves the 0/1 Knapsack Problem using dynamic programming.\n",
        "\n",
        "    Args:\n",
        "        weights (list of int): List of weights of the items.\n",
        "        values (list of int): List of values of the items.\n",
        "        capacity (int): Maximum weight capacity of the knapsack.\n",
        "\n",
        "    Returns:\n",
        "        int: The maximum value that can be achieved within the given weight capacity.\n",
        "\n",
        "    Example:\n",
        "        >>> knapsack([1, 3, 4, 5], [1, 4, 5, 7], 7)\n",
        "        9\n",
        "    \"\"\"\n",
        "    # Number of items\n",
        "    n = len(weights)\n",
        "\n",
        "    # Create a DP table with dimensions (n+1) x (capacity+1)\n",
        "    dp = [[0] * (capacity + 1) for _ in range(n + 1)]\n",
        "\n",
        "    # Fill the DP table\n",
        "    for i in range(1, n + 1):\n",
        "        for w in range(1, capacity + 1):\n",
        "            if weights[i - 1] <= w:  # If the current item's weight fits in the knapsack\n",
        "                dp[i][w] = max(dp[i - 1][w], dp[i - 1][w - weights[i - 1]] + values[i - 1])\n",
        "            else:  # Otherwise, don't include the item\n",
        "                dp[i][w] = dp[i - 1][w]\n",
        "\n",
        "    # The maximum value is in dp[n][capacity]\n",
        "    return dp[n][capacity]\n",
        "\n",
        "# Test Case\n",
        "weights = [1, 3, 4, 5]\n",
        "values = [1, 4, 5, 7]\n",
        "capacity = 7\n",
        "print(\"Maximum value:\", knapsack(weights, values, capacity))  # Expected: 9\n"
      ],
      "metadata": {
        "colab": {
          "base_uri": "https://localhost:8080/"
        },
        "id": "s8xKeRhNHg6U",
        "outputId": "a34679a8-31e2-4706-df7a-b6c5e90d2cee"
      },
      "execution_count": 13,
      "outputs": [
        {
          "output_type": "stream",
          "name": "stdout",
          "text": [
            "Maximum value: 9\n"
          ]
        }
      ]
    }
  ]
}